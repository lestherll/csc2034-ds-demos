{
  "cells": [
    {
      "cell_type": "markdown",
      "metadata": {
        "id": "DrHpQc3GwSZW"
      },
      "source": [
        "# Predicting Academic Performance\n",
        "## CSC2034\n",
        "### Cameron Trotter (c.trotter2@ncl.ac.uk)\n",
        "\n",
        "Now that we have played around with a few toy examples, let's take a look at tackling a real dataset. In this notebook we will work with the [Academic Performance dataset](https://www.kaggle.com/aljarah/xAPI-Edu-Data) from Kaggle. If after these sessions you want to expand your knowledge in your own time, Kaggle contains wide arrange of datasets and competitions for you to try. \n",
        "\n",
        "Unlike our synthetic dataset, the Academic Performance dataset contains more than two classes and a wide range of features. We will use this to help you understand the concept of overfitting, cross validation, and how to combat these through ensemble methods. \n",
        "\n",
        "### Google Colab Setup\n",
        "\n",
        "All of the notebooks you will be running in these lab sessions are designed to be ran using [Google Colab](https://colab.research.google.com/). For setup instructions, see this repo's README. \n",
        "\n",
        "In order to make things work on colab, we need to clone this repo and then (in another cell because colab dictates this...) move into the repo directory."
      ]
    },
    {
      "cell_type": "code",
      "execution_count": 1,
      "metadata": {
        "id": "PVNcdN2RwSZc",
        "outputId": "315d4309-9902-44f8-f1f0-e64c85af9f98",
        "colab": {
          "base_uri": "https://localhost:8080/"
        }
      },
      "outputs": [
        {
          "output_type": "stream",
          "name": "stdout",
          "text": [
            "Cloning into 'csc2034-ds-demos'...\n",
            "remote: Enumerating objects: 133, done.\u001b[K\n",
            "remote: Counting objects: 100% (15/15), done.\u001b[K\n",
            "remote: Compressing objects: 100% (5/5), done.\u001b[K\n",
            "remote: Total 133 (delta 12), reused 10 (delta 10), pack-reused 118\u001b[K\n",
            "Receiving objects: 100% (133/133), 3.81 MiB | 18.15 MiB/s, done.\n",
            "Resolving deltas: 100% (50/50), done.\n"
          ]
        }
      ],
      "source": [
        "!git clone https://github.com/Trotts/csc2034-ds-demos.git"
      ]
    },
    {
      "cell_type": "code",
      "execution_count": 2,
      "metadata": {
        "id": "xAnlt65hwSZf"
      },
      "outputs": [],
      "source": [
        "import os\n",
        "os.chdir('csc2034-ds-demos')"
      ]
    },
    {
      "cell_type": "markdown",
      "metadata": {
        "id": "C5JGLVFJwSZh"
      },
      "source": [
        "### Importing Data\n",
        "\n",
        "First, let's import the Academic Performance dataset. For ease, I have downloaded the dataset and cleaned it up. In data science, cleaning data is an important but time consuming task, and as such I don't expect you to do it here; it would take far too long for the time we have. When working with textual datasets, it is highliy likely it will be provided to you as a CSV file. We can use [pandas](https://pandas.pydata.org/) to create a DataFrame object based on the CSV file we import. Most data science packages will be able to handle DataFrames as input. "
      ]
    },
    {
      "cell_type": "code",
      "execution_count": 3,
      "metadata": {
        "id": "JGg65zTKwSZi"
      },
      "outputs": [],
      "source": [
        "import pandas as pd\n",
        "\n",
        "path = './data/academic_performance_clean.csv'\n",
        "\n",
        "dataset = pd.read_csv(path, header = 0)"
      ]
    },
    {
      "cell_type": "markdown",
      "metadata": {
        "id": "oUMMH-utwSZj"
      },
      "source": [
        "Let's examine the dataset to better understand the format and what it contains."
      ]
    },
    {
      "cell_type": "code",
      "execution_count": 4,
      "metadata": {
        "id": "we-gN-fwwSZk",
        "outputId": "418b5f48-7126-4bb4-c6db-380eadfff318",
        "colab": {
          "base_uri": "https://localhost:8080/",
          "height": 380
        }
      },
      "outputs": [
        {
          "output_type": "stream",
          "name": "stdout",
          "text": [
            "Number of examples: 480\n",
            "Number of features: 16\n",
            "List of features:\n",
            "\tIndex(['Gender', 'Nationality', 'StageID', 'GradeID', 'SectionID', 'Topic',\n",
            "       'Semester', 'Relation', 'RaisedHands', 'VisitedResources',\n",
            "       'AnnouncementsView', 'Discussion', 'ParentAnsweringSurvey',\n",
            "       'ParentSchoolSatisfaction', 'StudentAbsenceDays', 'Class'],\n",
            "      dtype='object')\n",
            "\n",
            "Examining the first 5 entries in the dataset:\n"
          ]
        },
        {
          "output_type": "display_data",
          "data": {
            "text/plain": [
              "  Gender Nationality     StageID GradeID  SectionID Topic Semester Relation  \\\n",
              "0   Male      Kuwait  LowerLevel    G-04  section_A    IT    First   Father   \n",
              "1   Male      Kuwait  LowerLevel    G-04  section_A    IT    First   Father   \n",
              "2   Male      Kuwait  LowerLevel    G-04  section_A    IT    First   Father   \n",
              "3   Male      Kuwait  LowerLevel    G-04  section_A    IT    First   Father   \n",
              "4   Male      Kuwait  LowerLevel    G-04  section_A    IT    First   Father   \n",
              "\n",
              "   RaisedHands  VisitedResources  AnnouncementsView  Discussion  \\\n",
              "0           15                16                  2          20   \n",
              "1           20                20                  3          25   \n",
              "2           10                 7                  0          30   \n",
              "3           30                25                  5          35   \n",
              "4           40                50                 12          50   \n",
              "\n",
              "  ParentAnsweringSurvey ParentSchoolSatisfaction StudentAbsenceDays Class  \n",
              "0                   Yes                     Good            Under-7     M  \n",
              "1                   Yes                     Good            Under-7     M  \n",
              "2                    No                      Bad            Above-7     L  \n",
              "3                    No                      Bad            Above-7     L  \n",
              "4                    No                      Bad            Above-7     M  "
            ],
            "text/html": [
              "\n",
              "  <div id=\"df-a2d83f61-70fc-4e41-830a-01de9f02c239\">\n",
              "    <div class=\"colab-df-container\">\n",
              "      <div>\n",
              "<style scoped>\n",
              "    .dataframe tbody tr th:only-of-type {\n",
              "        vertical-align: middle;\n",
              "    }\n",
              "\n",
              "    .dataframe tbody tr th {\n",
              "        vertical-align: top;\n",
              "    }\n",
              "\n",
              "    .dataframe thead th {\n",
              "        text-align: right;\n",
              "    }\n",
              "</style>\n",
              "<table border=\"1\" class=\"dataframe\">\n",
              "  <thead>\n",
              "    <tr style=\"text-align: right;\">\n",
              "      <th></th>\n",
              "      <th>Gender</th>\n",
              "      <th>Nationality</th>\n",
              "      <th>StageID</th>\n",
              "      <th>GradeID</th>\n",
              "      <th>SectionID</th>\n",
              "      <th>Topic</th>\n",
              "      <th>Semester</th>\n",
              "      <th>Relation</th>\n",
              "      <th>RaisedHands</th>\n",
              "      <th>VisitedResources</th>\n",
              "      <th>AnnouncementsView</th>\n",
              "      <th>Discussion</th>\n",
              "      <th>ParentAnsweringSurvey</th>\n",
              "      <th>ParentSchoolSatisfaction</th>\n",
              "      <th>StudentAbsenceDays</th>\n",
              "      <th>Class</th>\n",
              "    </tr>\n",
              "  </thead>\n",
              "  <tbody>\n",
              "    <tr>\n",
              "      <th>0</th>\n",
              "      <td>Male</td>\n",
              "      <td>Kuwait</td>\n",
              "      <td>LowerLevel</td>\n",
              "      <td>G-04</td>\n",
              "      <td>section_A</td>\n",
              "      <td>IT</td>\n",
              "      <td>First</td>\n",
              "      <td>Father</td>\n",
              "      <td>15</td>\n",
              "      <td>16</td>\n",
              "      <td>2</td>\n",
              "      <td>20</td>\n",
              "      <td>Yes</td>\n",
              "      <td>Good</td>\n",
              "      <td>Under-7</td>\n",
              "      <td>M</td>\n",
              "    </tr>\n",
              "    <tr>\n",
              "      <th>1</th>\n",
              "      <td>Male</td>\n",
              "      <td>Kuwait</td>\n",
              "      <td>LowerLevel</td>\n",
              "      <td>G-04</td>\n",
              "      <td>section_A</td>\n",
              "      <td>IT</td>\n",
              "      <td>First</td>\n",
              "      <td>Father</td>\n",
              "      <td>20</td>\n",
              "      <td>20</td>\n",
              "      <td>3</td>\n",
              "      <td>25</td>\n",
              "      <td>Yes</td>\n",
              "      <td>Good</td>\n",
              "      <td>Under-7</td>\n",
              "      <td>M</td>\n",
              "    </tr>\n",
              "    <tr>\n",
              "      <th>2</th>\n",
              "      <td>Male</td>\n",
              "      <td>Kuwait</td>\n",
              "      <td>LowerLevel</td>\n",
              "      <td>G-04</td>\n",
              "      <td>section_A</td>\n",
              "      <td>IT</td>\n",
              "      <td>First</td>\n",
              "      <td>Father</td>\n",
              "      <td>10</td>\n",
              "      <td>7</td>\n",
              "      <td>0</td>\n",
              "      <td>30</td>\n",
              "      <td>No</td>\n",
              "      <td>Bad</td>\n",
              "      <td>Above-7</td>\n",
              "      <td>L</td>\n",
              "    </tr>\n",
              "    <tr>\n",
              "      <th>3</th>\n",
              "      <td>Male</td>\n",
              "      <td>Kuwait</td>\n",
              "      <td>LowerLevel</td>\n",
              "      <td>G-04</td>\n",
              "      <td>section_A</td>\n",
              "      <td>IT</td>\n",
              "      <td>First</td>\n",
              "      <td>Father</td>\n",
              "      <td>30</td>\n",
              "      <td>25</td>\n",
              "      <td>5</td>\n",
              "      <td>35</td>\n",
              "      <td>No</td>\n",
              "      <td>Bad</td>\n",
              "      <td>Above-7</td>\n",
              "      <td>L</td>\n",
              "    </tr>\n",
              "    <tr>\n",
              "      <th>4</th>\n",
              "      <td>Male</td>\n",
              "      <td>Kuwait</td>\n",
              "      <td>LowerLevel</td>\n",
              "      <td>G-04</td>\n",
              "      <td>section_A</td>\n",
              "      <td>IT</td>\n",
              "      <td>First</td>\n",
              "      <td>Father</td>\n",
              "      <td>40</td>\n",
              "      <td>50</td>\n",
              "      <td>12</td>\n",
              "      <td>50</td>\n",
              "      <td>No</td>\n",
              "      <td>Bad</td>\n",
              "      <td>Above-7</td>\n",
              "      <td>M</td>\n",
              "    </tr>\n",
              "  </tbody>\n",
              "</table>\n",
              "</div>\n",
              "      <button class=\"colab-df-convert\" onclick=\"convertToInteractive('df-a2d83f61-70fc-4e41-830a-01de9f02c239')\"\n",
              "              title=\"Convert this dataframe to an interactive table.\"\n",
              "              style=\"display:none;\">\n",
              "        \n",
              "  <svg xmlns=\"http://www.w3.org/2000/svg\" height=\"24px\"viewBox=\"0 0 24 24\"\n",
              "       width=\"24px\">\n",
              "    <path d=\"M0 0h24v24H0V0z\" fill=\"none\"/>\n",
              "    <path d=\"M18.56 5.44l.94 2.06.94-2.06 2.06-.94-2.06-.94-.94-2.06-.94 2.06-2.06.94zm-11 1L8.5 8.5l.94-2.06 2.06-.94-2.06-.94L8.5 2.5l-.94 2.06-2.06.94zm10 10l.94 2.06.94-2.06 2.06-.94-2.06-.94-.94-2.06-.94 2.06-2.06.94z\"/><path d=\"M17.41 7.96l-1.37-1.37c-.4-.4-.92-.59-1.43-.59-.52 0-1.04.2-1.43.59L10.3 9.45l-7.72 7.72c-.78.78-.78 2.05 0 2.83L4 21.41c.39.39.9.59 1.41.59.51 0 1.02-.2 1.41-.59l7.78-7.78 2.81-2.81c.8-.78.8-2.07 0-2.86zM5.41 20L4 18.59l7.72-7.72 1.47 1.35L5.41 20z\"/>\n",
              "  </svg>\n",
              "      </button>\n",
              "      \n",
              "  <style>\n",
              "    .colab-df-container {\n",
              "      display:flex;\n",
              "      flex-wrap:wrap;\n",
              "      gap: 12px;\n",
              "    }\n",
              "\n",
              "    .colab-df-convert {\n",
              "      background-color: #E8F0FE;\n",
              "      border: none;\n",
              "      border-radius: 50%;\n",
              "      cursor: pointer;\n",
              "      display: none;\n",
              "      fill: #1967D2;\n",
              "      height: 32px;\n",
              "      padding: 0 0 0 0;\n",
              "      width: 32px;\n",
              "    }\n",
              "\n",
              "    .colab-df-convert:hover {\n",
              "      background-color: #E2EBFA;\n",
              "      box-shadow: 0px 1px 2px rgba(60, 64, 67, 0.3), 0px 1px 3px 1px rgba(60, 64, 67, 0.15);\n",
              "      fill: #174EA6;\n",
              "    }\n",
              "\n",
              "    [theme=dark] .colab-df-convert {\n",
              "      background-color: #3B4455;\n",
              "      fill: #D2E3FC;\n",
              "    }\n",
              "\n",
              "    [theme=dark] .colab-df-convert:hover {\n",
              "      background-color: #434B5C;\n",
              "      box-shadow: 0px 1px 3px 1px rgba(0, 0, 0, 0.15);\n",
              "      filter: drop-shadow(0px 1px 2px rgba(0, 0, 0, 0.3));\n",
              "      fill: #FFFFFF;\n",
              "    }\n",
              "  </style>\n",
              "\n",
              "      <script>\n",
              "        const buttonEl =\n",
              "          document.querySelector('#df-a2d83f61-70fc-4e41-830a-01de9f02c239 button.colab-df-convert');\n",
              "        buttonEl.style.display =\n",
              "          google.colab.kernel.accessAllowed ? 'block' : 'none';\n",
              "\n",
              "        async function convertToInteractive(key) {\n",
              "          const element = document.querySelector('#df-a2d83f61-70fc-4e41-830a-01de9f02c239');\n",
              "          const dataTable =\n",
              "            await google.colab.kernel.invokeFunction('convertToInteractive',\n",
              "                                                     [key], {});\n",
              "          if (!dataTable) return;\n",
              "\n",
              "          const docLinkHtml = 'Like what you see? Visit the ' +\n",
              "            '<a target=\"_blank\" href=https://colab.research.google.com/notebooks/data_table.ipynb>data table notebook</a>'\n",
              "            + ' to learn more about interactive tables.';\n",
              "          element.innerHTML = '';\n",
              "          dataTable['output_type'] = 'display_data';\n",
              "          await google.colab.output.renderOutput(dataTable, element);\n",
              "          const docLink = document.createElement('div');\n",
              "          docLink.innerHTML = docLinkHtml;\n",
              "          element.appendChild(docLink);\n",
              "        }\n",
              "      </script>\n",
              "    </div>\n",
              "  </div>\n",
              "  "
            ]
          },
          "metadata": {}
        }
      ],
      "source": [
        "print(f\"Number of examples: {dataset.shape[0]}\")\n",
        "print(f\"Number of features: {dataset.shape[1]}\")\n",
        "print(f\"List of features:\\n\\t{dataset.columns}\")\n",
        "\n",
        "print(f\"\\nExamining the first 5 entries in the dataset:\")\n",
        "display(dataset.head())"
      ]
    },
    {
      "cell_type": "markdown",
      "metadata": {
        "id": "BA8-y8VVwSZk"
      },
      "source": [
        "### Exploratory Data Analysis (EDA)\n",
        "\n",
        "Before we can begin to train models we need to first perform some EDA. This allows us to better understand the data we have. As we can see fron examining the first few examples in the dataset, some features are numeric whilst some are categorical..."
      ]
    },
    {
      "cell_type": "code",
      "execution_count": 5,
      "metadata": {
        "id": "0OMX7YQtwSZl"
      },
      "outputs": [],
      "source": [
        "categorical = ['Gender', 'Nationality', 'StageID',\n",
        "               'GradeID', 'SectionID', 'Topic',\n",
        "               'Semester', 'Relation', 'ParentAnsweringSurvey',\n",
        "               'ParentSchoolSatisfaction', 'StudentAbsenceDays']\n",
        "\n",
        "numerical = ['RaisedHands', 'VisitedResources', 'AnnouncementsView', 'Discussion']"
      ]
    },
    {
      "cell_type": "markdown",
      "metadata": {
        "id": "9nkwlhHuwSZn"
      },
      "source": [
        "Let's plot some of the categorical features using seaborn to understand the data. "
      ]
    },
    {
      "cell_type": "code",
      "execution_count": 6,
      "metadata": {
        "id": "PoeiuzrywSZo",
        "outputId": "b00bede2-4bca-4930-a054-72b040b07f70",
        "colab": {
          "base_uri": "https://localhost:8080/",
          "height": 444
        }
      },
      "outputs": [
        {
          "output_type": "display_data",
          "data": {
            "text/plain": [
              "<Figure size 720x432 with 1 Axes>"
            ],
            "image/png": "[encoded data removed]"
          },
          "metadata": {
            "needs_background": "light"
          }
        }
      ],
      "source": [
        "import seaborn as sns\n",
        "import matplotlib.pyplot as plt\n",
        "\n",
        "plt.figure(figsize = (10, 6))\n",
        "sns.countplot(x = \"Nationality\", data = dataset)\n",
        "plt.title(\"Count of different nationalities in the academic performance dataset\")\n",
        "plt.xlabel(\"Nationality\")\n",
        "plt.ylabel(\"Count\")\n",
        "plt.xticks(rotation=45) # Rotate the x labels so they don't overlap\n",
        "plt.show()\n",
        "plt.close()"
      ]
    },
    {
      "cell_type": "markdown",
      "metadata": {
        "id": "_srqD2wHwSZp"
      },
      "source": [
        "From this plot we can see our dataset is quite imbalanced. Kuwaiti and Jordanian nationals make up a significant proportion of the Nationality examples. As such, we now know we will have to handle this. \n",
        "\n",
        "Let's now take a look at numerical features. We can output summary statistics for them using `describe()`. The [docs](https://pandas.pydata.org/docs/reference/api/pandas.DataFrame.describe.html) explain the output in detail should you need it. "
      ]
    },
    {
      "cell_type": "code",
      "execution_count": 7,
      "metadata": {
        "id": "AozvVyc7wSZq",
        "outputId": "b53ba003-dfb4-49a7-b343-8e8f708813f7",
        "colab": {
          "base_uri": "https://localhost:8080/",
          "height": 300
        }
      },
      "outputs": [
        {
          "output_type": "display_data",
          "data": {
            "text/plain": [
              "       RaisedHands  VisitedResources  AnnouncementsView  Discussion\n",
              "count   480.000000        480.000000         480.000000  480.000000\n",
              "mean     46.775000         54.797917          37.918750   43.283333\n",
              "std      30.779223         33.080007          26.611244   27.637735\n",
              "min       0.000000          0.000000           0.000000    1.000000\n",
              "25%      15.750000         20.000000          14.000000   20.000000\n",
              "50%      50.000000         65.000000          33.000000   39.000000\n",
              "75%      75.000000         84.000000          58.000000   70.000000\n",
              "max     100.000000         99.000000          98.000000   99.000000"
            ],
            "text/html": [
              "\n",
              "  <div id=\"df-d59ecaee-d244-4c65-8f91-8408597fed74\">\n",
              "    <div class=\"colab-df-container\">\n",
              "      <div>\n",
              "<style scoped>\n",
              "    .dataframe tbody tr th:only-of-type {\n",
              "        vertical-align: middle;\n",
              "    }\n",
              "\n",
              "    .dataframe tbody tr th {\n",
              "        vertical-align: top;\n",
              "    }\n",
              "\n",
              "    .dataframe thead th {\n",
              "        text-align: right;\n",
              "    }\n",
              "</style>\n",
              "<table border=\"1\" class=\"dataframe\">\n",
              "  <thead>\n",
              "    <tr style=\"text-align: right;\">\n",
              "      <th></th>\n",
              "      <th>RaisedHands</th>\n",
              "      <th>VisitedResources</th>\n",
              "      <th>AnnouncementsView</th>\n",
              "      <th>Discussion</th>\n",
              "    </tr>\n",
              "  </thead>\n",
              "  <tbody>\n",
              "    <tr>\n",
              "      <th>count</th>\n",
              "      <td>480.000000</td>\n",
              "      <td>480.000000</td>\n",
              "      <td>480.000000</td>\n",
              "      <td>480.000000</td>\n",
              "    </tr>\n",
              "    <tr>\n",
              "      <th>mean</th>\n",
              "      <td>46.775000</td>\n",
              "      <td>54.797917</td>\n",
              "      <td>37.918750</td>\n",
              "      <td>43.283333</td>\n",
              "    </tr>\n",
              "    <tr>\n",
              "      <th>std</th>\n",
              "      <td>30.779223</td>\n",
              "      <td>33.080007</td>\n",
              "      <td>26.611244</td>\n",
              "      <td>27.637735</td>\n",
              "    </tr>\n",
              "    <tr>\n",
              "      <th>min</th>\n",
              "      <td>0.000000</td>\n",
              "      <td>0.000000</td>\n",
              "      <td>0.000000</td>\n",
              "      <td>1.000000</td>\n",
              "    </tr>\n",
              "    <tr>\n",
              "      <th>25%</th>\n",
              "      <td>15.750000</td>\n",
              "      <td>20.000000</td>\n",
              "      <td>14.000000</td>\n",
              "      <td>20.000000</td>\n",
              "    </tr>\n",
              "    <tr>\n",
              "      <th>50%</th>\n",
              "      <td>50.000000</td>\n",
              "      <td>65.000000</td>\n",
              "      <td>33.000000</td>\n",
              "      <td>39.000000</td>\n",
              "    </tr>\n",
              "    <tr>\n",
              "      <th>75%</th>\n",
              "      <td>75.000000</td>\n",
              "      <td>84.000000</td>\n",
              "      <td>58.000000</td>\n",
              "      <td>70.000000</td>\n",
              "    </tr>\n",
              "    <tr>\n",
              "      <th>max</th>\n",
              "      <td>100.000000</td>\n",
              "      <td>99.000000</td>\n",
              "      <td>98.000000</td>\n",
              "      <td>99.000000</td>\n",
              "    </tr>\n",
              "  </tbody>\n",
              "</table>\n",
              "</div>\n",
              "      <button class=\"colab-df-convert\" onclick=\"convertToInteractive('df-d59ecaee-d244-4c65-8f91-8408597fed74')\"\n",
              "              title=\"Convert this dataframe to an interactive table.\"\n",
              "              style=\"display:none;\">\n",
              "        \n",
              "  <svg xmlns=\"http://www.w3.org/2000/svg\" height=\"24px\"viewBox=\"0 0 24 24\"\n",
              "       width=\"24px\">\n",
              "    <path d=\"M0 0h24v24H0V0z\" fill=\"none\"/>\n",
              "    <path d=\"M18.56 5.44l.94 2.06.94-2.06 2.06-.94-2.06-.94-.94-2.06-.94 2.06-2.06.94zm-11 1L8.5 8.5l.94-2.06 2.06-.94-2.06-.94L8.5 2.5l-.94 2.06-2.06.94zm10 10l.94 2.06.94-2.06 2.06-.94-2.06-.94-.94-2.06-.94 2.06-2.06.94z\"/><path d=\"M17.41 7.96l-1.37-1.37c-.4-.4-.92-.59-1.43-.59-.52 0-1.04.2-1.43.59L10.3 9.45l-7.72 7.72c-.78.78-.78 2.05 0 2.83L4 21.41c.39.39.9.59 1.41.59.51 0 1.02-.2 1.41-.59l7.78-7.78 2.81-2.81c.8-.78.8-2.07 0-2.86zM5.41 20L4 18.59l7.72-7.72 1.47 1.35L5.41 20z\"/>\n",
              "  </svg>\n",
              "      </button>\n",
              "      \n",
              "  <style>\n",
              "    .colab-df-container {\n",
              "      display:flex;\n",
              "      flex-wrap:wrap;\n",
              "      gap: 12px;\n",
              "    }\n",
              "\n",
              "    .colab-df-convert {\n",
              "      background-color: #E8F0FE;\n",
              "      border: none;\n",
              "      border-radius: 50%;\n",
              "      cursor: pointer;\n",
              "      display: none;\n",
              "      fill: #1967D2;\n",
              "      height: 32px;\n",
              "      padding: 0 0 0 0;\n",
              "      width: 32px;\n",
              "    }\n",
              "\n",
              "    .colab-df-convert:hover {\n",
              "      background-color: #E2EBFA;\n",
              "      box-shadow: 0px 1px 2px rgba(60, 64, 67, 0.3), 0px 1px 3px 1px rgba(60, 64, 67, 0.15);\n",
              "      fill: #174EA6;\n",
              "    }\n",
              "\n",
              "    [theme=dark] .colab-df-convert {\n",
              "      background-color: #3B4455;\n",
              "      fill: #D2E3FC;\n",
              "    }\n",
              "\n",
              "    [theme=dark] .colab-df-convert:hover {\n",
              "      background-color: #434B5C;\n",
              "      box-shadow: 0px 1px 3px 1px rgba(0, 0, 0, 0.15);\n",
              "      filter: drop-shadow(0px 1px 2px rgba(0, 0, 0, 0.3));\n",
              "      fill: #FFFFFF;\n",
              "    }\n",
              "  </style>\n",
              "\n",
              "      <script>\n",
              "        const buttonEl =\n",
              "          document.querySelector('#df-d59ecaee-d244-4c65-8f91-8408597fed74 button.colab-df-convert');\n",
              "        buttonEl.style.display =\n",
              "          google.colab.kernel.accessAllowed ? 'block' : 'none';\n",
              "\n",
              "        async function convertToInteractive(key) {\n",
              "          const element = document.querySelector('#df-d59ecaee-d244-4c65-8f91-8408597fed74');\n",
              "          const dataTable =\n",
              "            await google.colab.kernel.invokeFunction('convertToInteractive',\n",
              "                                                     [key], {});\n",
              "          if (!dataTable) return;\n",
              "\n",
              "          const docLinkHtml = 'Like what you see? Visit the ' +\n",
              "            '<a target=\"_blank\" href=https://colab.research.google.com/notebooks/data_table.ipynb>data table notebook</a>'\n",
              "            + ' to learn more about interactive tables.';\n",
              "          element.innerHTML = '';\n",
              "          dataTable['output_type'] = 'display_data';\n",
              "          await google.colab.output.renderOutput(dataTable, element);\n",
              "          const docLink = document.createElement('div');\n",
              "          docLink.innerHTML = docLinkHtml;\n",
              "          element.appendChild(docLink);\n",
              "        }\n",
              "      </script>\n",
              "    </div>\n",
              "  </div>\n",
              "  "
            ]
          },
          "metadata": {}
        }
      ],
      "source": [
        "display(dataset[numerical].describe())"
      ]
    },
    {
      "cell_type": "markdown",
      "metadata": {
        "id": "hnDSn5r7wSZr"
      },
      "source": [
        "Numerical values can also be plotted by examining their distribution."
      ]
    },
    {
      "cell_type": "code",
      "execution_count": 8,
      "metadata": {
        "id": "QFEEgEZDwSZr",
        "outputId": "10577d62-97cc-4777-ccdc-86b909684004",
        "colab": {
          "base_uri": "https://localhost:8080/",
          "height": 414
        }
      },
      "outputs": [
        {
          "output_type": "display_data",
          "data": {
            "text/plain": [
              "<Figure size 2160x432 with 1 Axes>"
            ],
            "image/png": "[encoded data removed]"
          },
          "metadata": {
            "needs_background": "light"
          }
        }
      ],
      "source": [
        "plt.figure(figsize = (30,6))\n",
        "sns.countplot(x = \"RaisedHands\", data = dataset)\n",
        "plt.title(\"Count of RaisedHands in the academic performance dataset\")\n",
        "plt.xlabel(\"Number of times student raised their hand\")\n",
        "plt.ylabel(\"Count\")\n",
        "plt.xticks(rotation=45) # Rotate the x labels so they don't overlap\n",
        "plt.show()\n",
        "plt.close()"
      ]
    },
    {
      "cell_type": "markdown",
      "metadata": {
        "id": "c5uWEU1zwSZt"
      },
      "source": [
        "Using this dataset, we want to predict the `Class` of the student given the other features. In order to do this, we first need to know how many values `Class` can take, as well as its distribution. \n",
        "\n",
        "Task: Using seaborn, perform some EDA to understand the distribution and possible values `Class` can take. "
      ]
    },
    {
      "cell_type": "code",
      "execution_count": 9,
      "metadata": {
        "id": "AsqZG5SGwSZt",
        "outputId": "c869b351-b033-4f8f-e31b-d9ac8604bbf3",
        "colab": {
          "base_uri": "https://localhost:8080/",
          "height": 104
        }
      },
      "outputs": [
        {
          "output_type": "display_data",
          "data": {
            "text/plain": [
              "count     480\n",
              "unique      3\n",
              "top         M\n",
              "freq      211\n",
              "Name: Class, dtype: object"
            ]
          },
          "metadata": {}
        }
      ],
      "source": [
        "display(dataset[\"Class\"].describe())"
      ]
    },
    {
      "cell_type": "markdown",
      "metadata": {
        "id": "Meu9UTWYwSZt"
      },
      "source": [
        "From the plot you have created, we can see there are three possible values `Class` can take; M (Medium), L (Low), or H (High). These tell us how good the student's overall academic performance was. \n",
        "\n",
        "Now we understand the categorical feature we are going to predict, let's plot a numerical feature, `RaisedHands`, aggregated by *another* categorical feature, `Gender`. This is a very powerful EDA tool to help us fully understand the data we have available. To do this, we create a `FacetGrid` based on `Class` and then fill this with barplots showing `RaisedHands` against `Gender`."
      ]
    },
    {
      "cell_type": "code",
      "execution_count": 10,
      "metadata": {
        "id": "jYz70m_DwSZu",
        "outputId": "98ffc885-9f72-4174-e102-f6613baa16e7",
        "colab": {
          "base_uri": "https://localhost:8080/",
          "height": 242
        }
      },
      "outputs": [
        {
          "output_type": "execute_result",
          "data": {
            "text/plain": [
              "<seaborn.axisgrid.FacetGrid at 0x7f71fee9f590>"
            ]
          },
          "metadata": {},
          "execution_count": 10
        },
        {
          "output_type": "display_data",
          "data": {
            "text/plain": [
              "<Figure size 648x216 with 3 Axes>"
            ],
            "image/png": "[encoded data removed]"
          },
          "metadata": {
            "needs_background": "light"
          }
        }
      ],
      "source": [
        "grid = sns.FacetGrid(dataset, col=\"Class\")\n",
        "grid.map(sns.barplot, \"Gender\", \"RaisedHands\", order=[\"Male\", \"Female\"])"
      ]
    },
    {
      "cell_type": "markdown",
      "metadata": {
        "id": "no6T87VxwSZu"
      },
      "source": [
        "A pretty even `Gender` split for raising hands regardless of `Class`!\n",
        "\n",
        "Some of seaborn's plots take `kind` arguments which can change how the plotted data is displayed. For example `catplot` can take a wide variety of `kind` arguments, such as `box` or `violin`..."
      ]
    },
    {
      "cell_type": "code",
      "execution_count": 11,
      "metadata": {
        "id": "r0bS0eyMwSZv",
        "outputId": "63345e5a-657d-42e6-8b29-ac77adc77b2a",
        "colab": {
          "base_uri": "https://localhost:8080/",
          "height": 788
        }
      },
      "outputs": [
        {
          "output_type": "display_data",
          "data": {
            "text/plain": [
              "<Figure size 720x432 with 0 Axes>"
            ]
          },
          "metadata": {}
        },
        {
          "output_type": "display_data",
          "data": {
            "text/plain": [
              "<Figure size 432.125x360 with 1 Axes>"
            ],
            "image/png": "[encoded data removed]"
          },
          "metadata": {
            "needs_background": "light"
          }
        },
        {
          "output_type": "display_data",
          "data": {
            "text/plain": [
              "<Figure size 720x432 with 0 Axes>"
            ]
          },
          "metadata": {}
        },
        {
          "output_type": "display_data",
          "data": {
            "text/plain": [
              "<Figure size 432.125x360 with 1 Axes>"
            ],
            "image/png": "[encoded data removed]"
          },
          "metadata": {
            "needs_background": "light"
          }
        }
      ],
      "source": [
        "plt.figure(figsize = (10, 6))\n",
        "sns.catplot(x = \"Class\", y = \"RaisedHands\", data = dataset, kind = \"box\", hue = \"Gender\")\n",
        "plt.title(\"Boxplot of different Classes in the academic performance dataset per Gender\")\n",
        "plt.xlabel(\"Class\")\n",
        "plt.ylabel(\"Times hand raised\")\n",
        "plt.show()\n",
        "plt.close()\n",
        "\n",
        "plt.figure(figsize = (10, 6))\n",
        "sns.catplot(x = \"Class\", y = \"RaisedHands\", data = dataset, kind = \"violin\", hue = \"Gender\")\n",
        "plt.title(\"Violin plot of different Classes in the academic performance dataset per Gender\")\n",
        "plt.xlabel(\"Class\")\n",
        "plt.ylabel(\"Times hand raised\")\n",
        "plt.show()\n",
        "plt.close()"
      ]
    },
    {
      "cell_type": "markdown",
      "metadata": {
        "id": "eh3NN4HwwSZw"
      },
      "source": [
        "Task: Before continuing, use the examples above to build a wide variety of plots. Ensure each plot allows you to understand something different about your data.\n",
        "\n",
        "DEMONSTRATOR NOTE: This task is quite open ended. I'm expecting students to play around with EDA to see what they can create. You might have to direct them to the seaborn documentation to help answer any questions. "
      ]
    },
    {
      "cell_type": "code",
      "execution_count": 12,
      "metadata": {
        "id": "sYwkDhIWwSZw"
      },
      "outputs": [],
      "source": [
        "#..."
      ]
    },
    {
      "cell_type": "markdown",
      "metadata": {
        "id": "LO3_MNYrwSZw"
      },
      "source": [
        "### One Hot Encoding\n",
        "\n",
        "When working with categorical data, we sometimes need to convert this to numeric to allow a classifier to train. Sometimes this isn't needed, but in most cases it will be. In reality this is usually a result of a constraint placed by the algorithm implementation rather than the algorithm theory. \n",
        "\n",
        "One of the easiest ways to convert our categorical features to numeric ones is through the use of One Hot Encoding. This creates *dummy features* for each categorical feature, with a new column created for each possible categorical value. The values in the new dummy feature are binary, denoting whether the categorical feature was of the value of the dummy.\n",
        "\n",
        "Let's take Gender as an example. This contains 2 possible values; Male or Female. Using One Hot Encoding we will create three new columns in our dataset with the following possible values:\n",
        "\n",
        "* Male: 0 or 1\n",
        "* Female: 0 or 1\n",
        "\n",
        "To add these columns to our dataset, we create the dummy vairables using `get_dummies`, concatinate the columns onto the dataset, and then drop the column we used to create the dummies.\n"
      ]
    },
    {
      "cell_type": "code",
      "execution_count": 13,
      "metadata": {
        "id": "fOQHSVm3wSZx"
      },
      "outputs": [],
      "source": [
        "dummies = pd.get_dummies(dataset[\"Gender\"])\n",
        "dataset_onehot = pd.concat((dataset, dummies), axis = 1) # axis = 1 == columns (0 == rows)\n",
        "dataset_onehot = dataset_onehot.drop(\"Gender\", axis = 1)"
      ]
    },
    {
      "cell_type": "markdown",
      "metadata": {
        "id": "jKAXqZViwSZy"
      },
      "source": [
        "Let's now examine the shape of our dataset like we did at the beginning. "
      ]
    },
    {
      "cell_type": "code",
      "execution_count": 14,
      "metadata": {
        "id": "pVE0Wy4pwSZy",
        "outputId": "b6a1a0a8-e82c-4f5d-c93a-04b5620f9ed6",
        "colab": {
          "base_uri": "https://localhost:8080/",
          "height": 380
        }
      },
      "outputs": [
        {
          "output_type": "stream",
          "name": "stdout",
          "text": [
            "Number of examples: 480\n",
            "Number of features: 17\n",
            "List of features:\n",
            "\tIndex(['Nationality', 'StageID', 'GradeID', 'SectionID', 'Topic', 'Semester',\n",
            "       'Relation', 'RaisedHands', 'VisitedResources', 'AnnouncementsView',\n",
            "       'Discussion', 'ParentAnsweringSurvey', 'ParentSchoolSatisfaction',\n",
            "       'StudentAbsenceDays', 'Class', 'Female', 'Male'],\n",
            "      dtype='object')\n",
            "\n",
            "Examining the first 5 entries in the dataset:\n"
          ]
        },
        {
          "output_type": "display_data",
          "data": {
            "text/plain": [
              "  Nationality     StageID GradeID  SectionID Topic Semester Relation  \\\n",
              "0      Kuwait  LowerLevel    G-04  section_A    IT    First   Father   \n",
              "1      Kuwait  LowerLevel    G-04  section_A    IT    First   Father   \n",
              "2      Kuwait  LowerLevel    G-04  section_A    IT    First   Father   \n",
              "3      Kuwait  LowerLevel    G-04  section_A    IT    First   Father   \n",
              "4      Kuwait  LowerLevel    G-04  section_A    IT    First   Father   \n",
              "\n",
              "   RaisedHands  VisitedResources  AnnouncementsView  Discussion  \\\n",
              "0           15                16                  2          20   \n",
              "1           20                20                  3          25   \n",
              "2           10                 7                  0          30   \n",
              "3           30                25                  5          35   \n",
              "4           40                50                 12          50   \n",
              "\n",
              "  ParentAnsweringSurvey ParentSchoolSatisfaction StudentAbsenceDays Class  \\\n",
              "0                   Yes                     Good            Under-7     M   \n",
              "1                   Yes                     Good            Under-7     M   \n",
              "2                    No                      Bad            Above-7     L   \n",
              "3                    No                      Bad            Above-7     L   \n",
              "4                    No                      Bad            Above-7     M   \n",
              "\n",
              "   Female  Male  \n",
              "0       0     1  \n",
              "1       0     1  \n",
              "2       0     1  \n",
              "3       0     1  \n",
              "4       0     1  "
            ],
            "text/html": [
              "\n",
              "  <div id=\"df-437f285b-7d1a-4098-8884-c84437459152\">\n",
              "    <div class=\"colab-df-container\">\n",
              "      <div>\n",
              "<style scoped>\n",
              "    .dataframe tbody tr th:only-of-type {\n",
              "        vertical-align: middle;\n",
              "    }\n",
              "\n",
              "    .dataframe tbody tr th {\n",
              "        vertical-align: top;\n",
              "    }\n",
              "\n",
              "    .dataframe thead th {\n",
              "        text-align: right;\n",
              "    }\n",
              "</style>\n",
              "<table border=\"1\" class=\"dataframe\">\n",
              "  <thead>\n",
              "    <tr style=\"text-align: right;\">\n",
              "      <th></th>\n",
              "      <th>Nationality</th>\n",
              "      <th>StageID</th>\n",
              "      <th>GradeID</th>\n",
              "      <th>SectionID</th>\n",
              "      <th>Topic</th>\n",
              "      <th>Semester</th>\n",
              "      <th>Relation</th>\n",
              "      <th>RaisedHands</th>\n",
              "      <th>VisitedResources</th>\n",
              "      <th>AnnouncementsView</th>\n",
              "      <th>Discussion</th>\n",
              "      <th>ParentAnsweringSurvey</th>\n",
              "      <th>ParentSchoolSatisfaction</th>\n",
              "      <th>StudentAbsenceDays</th>\n",
              "      <th>Class</th>\n",
              "      <th>Female</th>\n",
              "      <th>Male</th>\n",
              "    </tr>\n",
              "  </thead>\n",
              "  <tbody>\n",
              "    <tr>\n",
              "      <th>0</th>\n",
              "      <td>Kuwait</td>\n",
              "      <td>LowerLevel</td>\n",
              "      <td>G-04</td>\n",
              "      <td>section_A</td>\n",
              "      <td>IT</td>\n",
              "      <td>First</td>\n",
              "      <td>Father</td>\n",
              "      <td>15</td>\n",
              "      <td>16</td>\n",
              "      <td>2</td>\n",
              "      <td>20</td>\n",
              "      <td>Yes</td>\n",
              "      <td>Good</td>\n",
              "      <td>Under-7</td>\n",
              "      <td>M</td>\n",
              "      <td>0</td>\n",
              "      <td>1</td>\n",
              "    </tr>\n",
              "    <tr>\n",
              "      <th>1</th>\n",
              "      <td>Kuwait</td>\n",
              "      <td>LowerLevel</td>\n",
              "      <td>G-04</td>\n",
              "      <td>section_A</td>\n",
              "      <td>IT</td>\n",
              "      <td>First</td>\n",
              "      <td>Father</td>\n",
              "      <td>20</td>\n",
              "      <td>20</td>\n",
              "      <td>3</td>\n",
              "      <td>25</td>\n",
              "      <td>Yes</td>\n",
              "      <td>Good</td>\n",
              "      <td>Under-7</td>\n",
              "      <td>M</td>\n",
              "      <td>0</td>\n",
              "      <td>1</td>\n",
              "    </tr>\n",
              "    <tr>\n",
              "      <th>2</th>\n",
              "      <td>Kuwait</td>\n",
              "      <td>LowerLevel</td>\n",
              "      <td>G-04</td>\n",
              "      <td>section_A</td>\n",
              "      <td>IT</td>\n",
              "      <td>First</td>\n",
              "      <td>Father</td>\n",
              "      <td>10</td>\n",
              "      <td>7</td>\n",
              "      <td>0</td>\n",
              "      <td>30</td>\n",
              "      <td>No</td>\n",
              "      <td>Bad</td>\n",
              "      <td>Above-7</td>\n",
              "      <td>L</td>\n",
              "      <td>0</td>\n",
              "      <td>1</td>\n",
              "    </tr>\n",
              "    <tr>\n",
              "      <th>3</th>\n",
              "      <td>Kuwait</td>\n",
              "      <td>LowerLevel</td>\n",
              "      <td>G-04</td>\n",
              "      <td>section_A</td>\n",
              "      <td>IT</td>\n",
              "      <td>First</td>\n",
              "      <td>Father</td>\n",
              "      <td>30</td>\n",
              "      <td>25</td>\n",
              "      <td>5</td>\n",
              "      <td>35</td>\n",
              "      <td>No</td>\n",
              "      <td>Bad</td>\n",
              "      <td>Above-7</td>\n",
              "      <td>L</td>\n",
              "      <td>0</td>\n",
              "      <td>1</td>\n",
              "    </tr>\n",
              "    <tr>\n",
              "      <th>4</th>\n",
              "      <td>Kuwait</td>\n",
              "      <td>LowerLevel</td>\n",
              "      <td>G-04</td>\n",
              "      <td>section_A</td>\n",
              "      <td>IT</td>\n",
              "      <td>First</td>\n",
              "      <td>Father</td>\n",
              "      <td>40</td>\n",
              "      <td>50</td>\n",
              "      <td>12</td>\n",
              "      <td>50</td>\n",
              "      <td>No</td>\n",
              "      <td>Bad</td>\n",
              "      <td>Above-7</td>\n",
              "      <td>M</td>\n",
              "      <td>0</td>\n",
              "      <td>1</td>\n",
              "    </tr>\n",
              "  </tbody>\n",
              "</table>\n",
              "</div>\n",
              "      <button class=\"colab-df-convert\" onclick=\"convertToInteractive('df-437f285b-7d1a-4098-8884-c84437459152')\"\n",
              "              title=\"Convert this dataframe to an interactive table.\"\n",
              "              style=\"display:none;\">\n",
              "        \n",
              "  <svg xmlns=\"http://www.w3.org/2000/svg\" height=\"24px\"viewBox=\"0 0 24 24\"\n",
              "       width=\"24px\">\n",
              "    <path d=\"M0 0h24v24H0V0z\" fill=\"none\"/>\n",
              "    <path d=\"M18.56 5.44l.94 2.06.94-2.06 2.06-.94-2.06-.94-.94-2.06-.94 2.06-2.06.94zm-11 1L8.5 8.5l.94-2.06 2.06-.94-2.06-.94L8.5 2.5l-.94 2.06-2.06.94zm10 10l.94 2.06.94-2.06 2.06-.94-2.06-.94-.94-2.06-.94 2.06-2.06.94z\"/><path d=\"M17.41 7.96l-1.37-1.37c-.4-.4-.92-.59-1.43-.59-.52 0-1.04.2-1.43.59L10.3 9.45l-7.72 7.72c-.78.78-.78 2.05 0 2.83L4 21.41c.39.39.9.59 1.41.59.51 0 1.02-.2 1.41-.59l7.78-7.78 2.81-2.81c.8-.78.8-2.07 0-2.86zM5.41 20L4 18.59l7.72-7.72 1.47 1.35L5.41 20z\"/>\n",
              "  </svg>\n",
              "      </button>\n",
              "      \n",
              "  <style>\n",
              "    .colab-df-container {\n",
              "      display:flex;\n",
              "      flex-wrap:wrap;\n",
              "      gap: 12px;\n",
              "    }\n",
              "\n",
              "    .colab-df-convert {\n",
              "      background-color: #E8F0FE;\n",
              "      border: none;\n",
              "      border-radius: 50%;\n",
              "      cursor: pointer;\n",
              "      display: none;\n",
              "      fill: #1967D2;\n",
              "      height: 32px;\n",
              "      padding: 0 0 0 0;\n",
              "      width: 32px;\n",
              "    }\n",
              "\n",
              "    .colab-df-convert:hover {\n",
              "      background-color: #E2EBFA;\n",
              "      box-shadow: 0px 1px 2px rgba(60, 64, 67, 0.3), 0px 1px 3px 1px rgba(60, 64, 67, 0.15);\n",
              "      fill: #174EA6;\n",
              "    }\n",
              "\n",
              "    [theme=dark] .colab-df-convert {\n",
              "      background-color: #3B4455;\n",
              "      fill: #D2E3FC;\n",
              "    }\n",
              "\n",
              "    [theme=dark] .colab-df-convert:hover {\n",
              "      background-color: #434B5C;\n",
              "      box-shadow: 0px 1px 3px 1px rgba(0, 0, 0, 0.15);\n",
              "      filter: drop-shadow(0px 1px 2px rgba(0, 0, 0, 0.3));\n",
              "      fill: #FFFFFF;\n",
              "    }\n",
              "  </style>\n",
              "\n",
              "      <script>\n",
              "        const buttonEl =\n",
              "          document.querySelector('#df-437f285b-7d1a-4098-8884-c84437459152 button.colab-df-convert');\n",
              "        buttonEl.style.display =\n",
              "          google.colab.kernel.accessAllowed ? 'block' : 'none';\n",
              "\n",
              "        async function convertToInteractive(key) {\n",
              "          const element = document.querySelector('#df-437f285b-7d1a-4098-8884-c84437459152');\n",
              "          const dataTable =\n",
              "            await google.colab.kernel.invokeFunction('convertToInteractive',\n",
              "                                                     [key], {});\n",
              "          if (!dataTable) return;\n",
              "\n",
              "          const docLinkHtml = 'Like what you see? Visit the ' +\n",
              "            '<a target=\"_blank\" href=https://colab.research.google.com/notebooks/data_table.ipynb>data table notebook</a>'\n",
              "            + ' to learn more about interactive tables.';\n",
              "          element.innerHTML = '';\n",
              "          dataTable['output_type'] = 'display_data';\n",
              "          await google.colab.output.renderOutput(dataTable, element);\n",
              "          const docLink = document.createElement('div');\n",
              "          docLink.innerHTML = docLinkHtml;\n",
              "          element.appendChild(docLink);\n",
              "        }\n",
              "      </script>\n",
              "    </div>\n",
              "  </div>\n",
              "  "
            ]
          },
          "metadata": {}
        }
      ],
      "source": [
        "print(f\"Number of examples: {dataset_onehot.shape[0]}\")\n",
        "print(f\"Number of features: {dataset_onehot.shape[1]}\")\n",
        "print(f\"List of features:\\n\\t{dataset_onehot.columns}\")\n",
        "\n",
        "print(f\"\\nExamining the first 5 entries in the dataset:\")\n",
        "display(dataset_onehot.head())"
      ]
    },
    {
      "cell_type": "markdown",
      "metadata": {
        "id": "tqzNVycgwSZy"
      },
      "source": [
        "Now we have 17 columns instead of 16, as we have added 2 and removed 1. \n",
        "\n",
        "Task: Create dummy featues for all other categorical features in the dataset, except `Class`. You may find the use of an iterator useful here. Note that above, we created a new copy of the dataset called `dataset_onehot`."
      ]
    },
    {
      "cell_type": "code",
      "execution_count": 15,
      "metadata": {
        "id": "AbMeRZPuwSZz",
        "outputId": "b0e8e026-a096-4f12-c517-b5165acaab8b",
        "colab": {
          "base_uri": "https://localhost:8080/",
          "height": 236
        }
      },
      "outputs": [
        {
          "output_type": "execute_result",
          "data": {
            "text/plain": [
              "   RaisedHands  VisitedResources  AnnouncementsView  Discussion Class  Female  \\\n",
              "0           15                16                  2          20     M       0   \n",
              "1           20                20                  3          25     M       0   \n",
              "2           10                 7                  0          30     L       0   \n",
              "3           30                25                  5          35     L       0   \n",
              "4           40                50                 12          50     M       0   \n",
              "\n",
              "   Male  Egypt  Iran  Iraq  ...  First  Second  Father  Mother  No  Yes  Bad  \\\n",
              "0     1      0     0     0  ...      1       0       1       0   0    1    0   \n",
              "1     1      0     0     0  ...      1       0       1       0   0    1    0   \n",
              "2     1      0     0     0  ...      1       0       1       0   1    0    1   \n",
              "3     1      0     0     0  ...      1       0       1       0   1    0    1   \n",
              "4     1      0     0     0  ...      1       0       1       0   1    0    1   \n",
              "\n",
              "   Good  Above-7  Under-7  \n",
              "0     1        0        1  \n",
              "1     1        0        1  \n",
              "2     0        1        0  \n",
              "3     0        1        0  \n",
              "4     0        1        0  \n",
              "\n",
              "[5 rows x 59 columns]"
            ],
            "text/html": [
              "\n",
              "  <div id=\"df-5b6a8472-dd69-4a5a-8379-2f604798562c\">\n",
              "    <div class=\"colab-df-container\">\n",
              "      <div>\n",
              "<style scoped>\n",
              "    .dataframe tbody tr th:only-of-type {\n",
              "        vertical-align: middle;\n",
              "    }\n",
              "\n",
              "    .dataframe tbody tr th {\n",
              "        vertical-align: top;\n",
              "    }\n",
              "\n",
              "    .dataframe thead th {\n",
              "        text-align: right;\n",
              "    }\n",
              "</style>\n",
              "<table border=\"1\" class=\"dataframe\">\n",
              "  <thead>\n",
              "    <tr style=\"text-align: right;\">\n",
              "      <th></th>\n",
              "      <th>RaisedHands</th>\n",
              "      <th>VisitedResources</th>\n",
              "      <th>AnnouncementsView</th>\n",
              "      <th>Discussion</th>\n",
              "      <th>Class</th>\n",
              "      <th>Female</th>\n",
              "      <th>Male</th>\n",
              "      <th>Egypt</th>\n",
              "      <th>Iran</th>\n",
              "      <th>Iraq</th>\n",
              "      <th>...</th>\n",
              "      <th>First</th>\n",
              "      <th>Second</th>\n",
              "      <th>Father</th>\n",
              "      <th>Mother</th>\n",
              "      <th>No</th>\n",
              "      <th>Yes</th>\n",
              "      <th>Bad</th>\n",
              "      <th>Good</th>\n",
              "      <th>Above-7</th>\n",
              "      <th>Under-7</th>\n",
              "    </tr>\n",
              "  </thead>\n",
              "  <tbody>\n",
              "    <tr>\n",
              "      <th>0</th>\n",
              "      <td>15</td>\n",
              "      <td>16</td>\n",
              "      <td>2</td>\n",
              "      <td>20</td>\n",
              "      <td>M</td>\n",
              "      <td>0</td>\n",
              "      <td>1</td>\n",
              "      <td>0</td>\n",
              "      <td>0</td>\n",
              "      <td>0</td>\n",
              "      <td>...</td>\n",
              "      <td>1</td>\n",
              "      <td>0</td>\n",
              "      <td>1</td>\n",
              "      <td>0</td>\n",
              "      <td>0</td>\n",
              "      <td>1</td>\n",
              "      <td>0</td>\n",
              "      <td>1</td>\n",
              "      <td>0</td>\n",
              "      <td>1</td>\n",
              "    </tr>\n",
              "    <tr>\n",
              "      <th>1</th>\n",
              "      <td>20</td>\n",
              "      <td>20</td>\n",
              "      <td>3</td>\n",
              "      <td>25</td>\n",
              "      <td>M</td>\n",
              "      <td>0</td>\n",
              "      <td>1</td>\n",
              "      <td>0</td>\n",
              "      <td>0</td>\n",
              "      <td>0</td>\n",
              "      <td>...</td>\n",
              "      <td>1</td>\n",
              "      <td>0</td>\n",
              "      <td>1</td>\n",
              "      <td>0</td>\n",
              "      <td>0</td>\n",
              "      <td>1</td>\n",
              "      <td>0</td>\n",
              "      <td>1</td>\n",
              "      <td>0</td>\n",
              "      <td>1</td>\n",
              "    </tr>\n",
              "    <tr>\n",
              "      <th>2</th>\n",
              "      <td>10</td>\n",
              "      <td>7</td>\n",
              "      <td>0</td>\n",
              "      <td>30</td>\n",
              "      <td>L</td>\n",
              "      <td>0</td>\n",
              "      <td>1</td>\n",
              "      <td>0</td>\n",
              "      <td>0</td>\n",
              "      <td>0</td>\n",
              "      <td>...</td>\n",
              "      <td>1</td>\n",
              "      <td>0</td>\n",
              "      <td>1</td>\n",
              "      <td>0</td>\n",
              "      <td>1</td>\n",
              "      <td>0</td>\n",
              "      <td>1</td>\n",
              "      <td>0</td>\n",
              "      <td>1</td>\n",
              "      <td>0</td>\n",
              "    </tr>\n",
              "    <tr>\n",
              "      <th>3</th>\n",
              "      <td>30</td>\n",
              "      <td>25</td>\n",
              "      <td>5</td>\n",
              "      <td>35</td>\n",
              "      <td>L</td>\n",
              "      <td>0</td>\n",
              "      <td>1</td>\n",
              "      <td>0</td>\n",
              "      <td>0</td>\n",
              "      <td>0</td>\n",
              "      <td>...</td>\n",
              "      <td>1</td>\n",
              "      <td>0</td>\n",
              "      <td>1</td>\n",
              "      <td>0</td>\n",
              "      <td>1</td>\n",
              "      <td>0</td>\n",
              "      <td>1</td>\n",
              "      <td>0</td>\n",
              "      <td>1</td>\n",
              "      <td>0</td>\n",
              "    </tr>\n",
              "    <tr>\n",
              "      <th>4</th>\n",
              "      <td>40</td>\n",
              "      <td>50</td>\n",
              "      <td>12</td>\n",
              "      <td>50</td>\n",
              "      <td>M</td>\n",
              "      <td>0</td>\n",
              "      <td>1</td>\n",
              "      <td>0</td>\n",
              "      <td>0</td>\n",
              "      <td>0</td>\n",
              "      <td>...</td>\n",
              "      <td>1</td>\n",
              "      <td>0</td>\n",
              "      <td>1</td>\n",
              "      <td>0</td>\n",
              "      <td>1</td>\n",
              "      <td>0</td>\n",
              "      <td>1</td>\n",
              "      <td>0</td>\n",
              "      <td>1</td>\n",
              "      <td>0</td>\n",
              "    </tr>\n",
              "  </tbody>\n",
              "</table>\n",
              "<p>5 rows × 59 columns</p>\n",
              "</div>\n",
              "      <button class=\"colab-df-convert\" onclick=\"convertToInteractive('df-5b6a8472-dd69-4a5a-8379-2f604798562c')\"\n",
              "              title=\"Convert this dataframe to an interactive table.\"\n",
              "              style=\"display:none;\">\n",
              "        \n",
              "  <svg xmlns=\"http://www.w3.org/2000/svg\" height=\"24px\"viewBox=\"0 0 24 24\"\n",
              "       width=\"24px\">\n",
              "    <path d=\"M0 0h24v24H0V0z\" fill=\"none\"/>\n",
              "    <path d=\"M18.56 5.44l.94 2.06.94-2.06 2.06-.94-2.06-.94-.94-2.06-.94 2.06-2.06.94zm-11 1L8.5 8.5l.94-2.06 2.06-.94-2.06-.94L8.5 2.5l-.94 2.06-2.06.94zm10 10l.94 2.06.94-2.06 2.06-.94-2.06-.94-.94-2.06-.94 2.06-2.06.94z\"/><path d=\"M17.41 7.96l-1.37-1.37c-.4-.4-.92-.59-1.43-.59-.52 0-1.04.2-1.43.59L10.3 9.45l-7.72 7.72c-.78.78-.78 2.05 0 2.83L4 21.41c.39.39.9.59 1.41.59.51 0 1.02-.2 1.41-.59l7.78-7.78 2.81-2.81c.8-.78.8-2.07 0-2.86zM5.41 20L4 18.59l7.72-7.72 1.47 1.35L5.41 20z\"/>\n",
              "  </svg>\n",
              "      </button>\n",
              "      \n",
              "  <style>\n",
              "    .colab-df-container {\n",
              "      display:flex;\n",
              "      flex-wrap:wrap;\n",
              "      gap: 12px;\n",
              "    }\n",
              "\n",
              "    .colab-df-convert {\n",
              "      background-color: #E8F0FE;\n",
              "      border: none;\n",
              "      border-radius: 50%;\n",
              "      cursor: pointer;\n",
              "      display: none;\n",
              "      fill: #1967D2;\n",
              "      height: 32px;\n",
              "      padding: 0 0 0 0;\n",
              "      width: 32px;\n",
              "    }\n",
              "\n",
              "    .colab-df-convert:hover {\n",
              "      background-color: #E2EBFA;\n",
              "      box-shadow: 0px 1px 2px rgba(60, 64, 67, 0.3), 0px 1px 3px 1px rgba(60, 64, 67, 0.15);\n",
              "      fill: #174EA6;\n",
              "    }\n",
              "\n",
              "    [theme=dark] .colab-df-convert {\n",
              "      background-color: #3B4455;\n",
              "      fill: #D2E3FC;\n",
              "    }\n",
              "\n",
              "    [theme=dark] .colab-df-convert:hover {\n",
              "      background-color: #434B5C;\n",
              "      box-shadow: 0px 1px 3px 1px rgba(0, 0, 0, 0.15);\n",
              "      filter: drop-shadow(0px 1px 2px rgba(0, 0, 0, 0.3));\n",
              "      fill: #FFFFFF;\n",
              "    }\n",
              "  </style>\n",
              "\n",
              "      <script>\n",
              "        const buttonEl =\n",
              "          document.querySelector('#df-5b6a8472-dd69-4a5a-8379-2f604798562c button.colab-df-convert');\n",
              "        buttonEl.style.display =\n",
              "          google.colab.kernel.accessAllowed ? 'block' : 'none';\n",
              "\n",
              "        async function convertToInteractive(key) {\n",
              "          const element = document.querySelector('#df-5b6a8472-dd69-4a5a-8379-2f604798562c');\n",
              "          const dataTable =\n",
              "            await google.colab.kernel.invokeFunction('convertToInteractive',\n",
              "                                                     [key], {});\n",
              "          if (!dataTable) return;\n",
              "\n",
              "          const docLinkHtml = 'Like what you see? Visit the ' +\n",
              "            '<a target=\"_blank\" href=https://colab.research.google.com/notebooks/data_table.ipynb>data table notebook</a>'\n",
              "            + ' to learn more about interactive tables.';\n",
              "          element.innerHTML = '';\n",
              "          dataTable['output_type'] = 'display_data';\n",
              "          await google.colab.output.renderOutput(dataTable, element);\n",
              "          const docLink = document.createElement('div');\n",
              "          docLink.innerHTML = docLinkHtml;\n",
              "          element.appendChild(docLink);\n",
              "        }\n",
              "      </script>\n",
              "    </div>\n",
              "  </div>\n",
              "  "
            ]
          },
          "metadata": {},
          "execution_count": 15
        }
      ],
      "source": [
        "remaining_categorical = ['Nationality', 'StageID',\n",
        "               'GradeID', 'SectionID', 'Topic',\n",
        "               'Semester', 'Relation', 'ParentAnsweringSurvey',\n",
        "               'ParentSchoolSatisfaction', 'StudentAbsenceDays']\n",
        "\n",
        "#...\n",
        "# display(dataset[\"Nationality\"].describe())\n",
        "for feature in remaining_categorical:\n",
        "    dummy = pd.get_dummies(dataset[feature])\n",
        "    dataset_onehot = pd.concat((dataset_onehot, dummy), axis = 1)\n",
        "    dataset_onehot = dataset_onehot.drop(feature, axis = 1)\n",
        "\n",
        "dataset_onehot.head()"
      ]
    },
    {
      "cell_type": "markdown",
      "metadata": {
        "id": "30HN77BLwSZz"
      },
      "source": [
        "Run the below checks. If any return False, take another look at the code you have written before continuing. "
      ]
    },
    {
      "cell_type": "code",
      "execution_count": 16,
      "metadata": {
        "id": "HSHqbv0QwSZz",
        "outputId": "db88875a-12ec-4ce2-a2ab-20a25dd30536",
        "colab": {
          "base_uri": "https://localhost:8080/"
        }
      },
      "outputs": [
        {
          "output_type": "stream",
          "name": "stdout",
          "text": [
            "Number of features check: True\n"
          ]
        },
        {
          "output_type": "execute_result",
          "data": {
            "text/plain": [
              "(480, 59)"
            ]
          },
          "metadata": {},
          "execution_count": 16
        }
      ],
      "source": [
        "print(f\"Number of features check: {dataset_onehot.shape[1] == 59}\")\n",
        "dataset_onehot.shape"
      ]
    },
    {
      "cell_type": "markdown",
      "metadata": {
        "id": "eG-hlyTDwSZ0"
      },
      "source": [
        "### Handling our Predictive Feature\n",
        "\n",
        "As the feature we will be predicting, `Class`, is categorical we need to do something different when converting it to numeric. This is because our models will only predict one column as output. If we One Hot Encoded `Class` it would then be split over three columns, making it impossible to use as a label. \n",
        "\n",
        "To get around this we can set numeric lables for the different classes and iterate through the dataset converting as we go. Once converted, we drop `Class` from the One Hot Encoded dataset and replace it with the `Class` column we just created."
      ]
    },
    {
      "cell_type": "code",
      "execution_count": 17,
      "metadata": {
        "id": "hfYxZj1uwSZ0"
      },
      "outputs": [],
      "source": [
        "class_numeric = {'L': 0, 'M': 1, 'H': 2}\n",
        "\n",
        "numeric_class_dataset = dataset.replace({'Class': class_numeric})\n",
        "\n",
        "dataset_onehot = dataset_onehot.drop('Class', axis = 1)\n",
        "dataset_onehot = pd.concat((dataset_onehot, numeric_class_dataset['Class']), axis = 1)"
      ]
    },
    {
      "cell_type": "markdown",
      "metadata": {
        "id": "D6CG6Q2EwSZ1"
      },
      "source": [
        "Let's look at the dataset we have now..."
      ]
    },
    {
      "cell_type": "code",
      "execution_count": 18,
      "metadata": {
        "id": "8ofegUMxwSZ1",
        "outputId": "45897f66-544b-49e5-cd8e-f2603e07eb91",
        "colab": {
          "base_uri": "https://localhost:8080/",
          "height": 496
        }
      },
      "outputs": [
        {
          "output_type": "stream",
          "name": "stdout",
          "text": [
            "Number of examples: 480\n",
            "Number of features: 59\n",
            "List of features:\n",
            "\tIndex(['RaisedHands', 'VisitedResources', 'AnnouncementsView', 'Discussion',\n",
            "       'Female', 'Male', 'Egypt', 'Iran', 'Iraq', 'Jordan', 'Kuwait',\n",
            "       'Lebanon', 'Libya', 'Morocco', 'Palestine', 'SaudiArabia', 'Syria',\n",
            "       'Tunisia', 'USA', 'Venezuela', 'HighSchool', 'LowerLevel',\n",
            "       'MiddleSchool', 'G-02', 'G-04', 'G-05', 'G-06', 'G-07', 'G-08', 'G-09',\n",
            "       'G-10', 'G-11', 'G-12', 'section_A', 'section_B', 'section_C', 'Arabic',\n",
            "       'Biology', 'Chemistry', 'English', 'French', 'Geology', 'History', 'IT',\n",
            "       'Math', 'Quran', 'Science', 'Spanish', 'First', 'Second', 'Father',\n",
            "       'Mother', 'No', 'Yes', 'Bad', 'Good', 'Above-7', 'Under-7', 'Class'],\n",
            "      dtype='object')\n",
            "\n",
            "Examining the first 5 entries in the dataset:\n"
          ]
        },
        {
          "output_type": "display_data",
          "data": {
            "text/plain": [
              "   RaisedHands  VisitedResources  AnnouncementsView  Discussion  Female  Male  \\\n",
              "0           15                16                  2          20       0     1   \n",
              "1           20                20                  3          25       0     1   \n",
              "2           10                 7                  0          30       0     1   \n",
              "3           30                25                  5          35       0     1   \n",
              "4           40                50                 12          50       0     1   \n",
              "\n",
              "   Egypt  Iran  Iraq  Jordan  ...  Second  Father  Mother  No  Yes  Bad  Good  \\\n",
              "0      0     0     0       0  ...       0       1       0   0    1    0     1   \n",
              "1      0     0     0       0  ...       0       1       0   0    1    0     1   \n",
              "2      0     0     0       0  ...       0       1       0   1    0    1     0   \n",
              "3      0     0     0       0  ...       0       1       0   1    0    1     0   \n",
              "4      0     0     0       0  ...       0       1       0   1    0    1     0   \n",
              "\n",
              "   Above-7  Under-7  Class  \n",
              "0        0        1      1  \n",
              "1        0        1      1  \n",
              "2        1        0      0  \n",
              "3        1        0      0  \n",
              "4        1        0      1  \n",
              "\n",
              "[5 rows x 59 columns]"
            ],
            "text/html": [
              "\n",
              "  <div id=\"df-d04d861d-3be3-4ca9-ad1a-e5986d3f7c17\">\n",
              "    <div class=\"colab-df-container\">\n",
              "      <div>\n",
              "<style scoped>\n",
              "    .dataframe tbody tr th:only-of-type {\n",
              "        vertical-align: middle;\n",
              "    }\n",
              "\n",
              "    .dataframe tbody tr th {\n",
              "        vertical-align: top;\n",
              "    }\n",
              "\n",
              "    .dataframe thead th {\n",
              "        text-align: right;\n",
              "    }\n",
              "</style>\n",
              "<table border=\"1\" class=\"dataframe\">\n",
              "  <thead>\n",
              "    <tr style=\"text-align: right;\">\n",
              "      <th></th>\n",
              "      <th>RaisedHands</th>\n",
              "      <th>VisitedResources</th>\n",
              "      <th>AnnouncementsView</th>\n",
              "      <th>Discussion</th>\n",
              "      <th>Female</th>\n",
              "      <th>Male</th>\n",
              "      <th>Egypt</th>\n",
              "      <th>Iran</th>\n",
              "      <th>Iraq</th>\n",
              "      <th>Jordan</th>\n",
              "      <th>...</th>\n",
              "      <th>Second</th>\n",
              "      <th>Father</th>\n",
              "      <th>Mother</th>\n",
              "      <th>No</th>\n",
              "      <th>Yes</th>\n",
              "      <th>Bad</th>\n",
              "      <th>Good</th>\n",
              "      <th>Above-7</th>\n",
              "      <th>Under-7</th>\n",
              "      <th>Class</th>\n",
              "    </tr>\n",
              "  </thead>\n",
              "  <tbody>\n",
              "    <tr>\n",
              "      <th>0</th>\n",
              "      <td>15</td>\n",
              "      <td>16</td>\n",
              "      <td>2</td>\n",
              "      <td>20</td>\n",
              "      <td>0</td>\n",
              "      <td>1</td>\n",
              "      <td>0</td>\n",
              "      <td>0</td>\n",
              "      <td>0</td>\n",
              "      <td>0</td>\n",
              "      <td>...</td>\n",
              "      <td>0</td>\n",
              "      <td>1</td>\n",
              "      <td>0</td>\n",
              "      <td>0</td>\n",
              "      <td>1</td>\n",
              "      <td>0</td>\n",
              "      <td>1</td>\n",
              "      <td>0</td>\n",
              "      <td>1</td>\n",
              "      <td>1</td>\n",
              "    </tr>\n",
              "    <tr>\n",
              "      <th>1</th>\n",
              "      <td>20</td>\n",
              "      <td>20</td>\n",
              "      <td>3</td>\n",
              "      <td>25</td>\n",
              "      <td>0</td>\n",
              "      <td>1</td>\n",
              "      <td>0</td>\n",
              "      <td>0</td>\n",
              "      <td>0</td>\n",
              "      <td>0</td>\n",
              "      <td>...</td>\n",
              "      <td>0</td>\n",
              "      <td>1</td>\n",
              "      <td>0</td>\n",
              "      <td>0</td>\n",
              "      <td>1</td>\n",
              "      <td>0</td>\n",
              "      <td>1</td>\n",
              "      <td>0</td>\n",
              "      <td>1</td>\n",
              "      <td>1</td>\n",
              "    </tr>\n",
              "    <tr>\n",
              "      <th>2</th>\n",
              "      <td>10</td>\n",
              "      <td>7</td>\n",
              "      <td>0</td>\n",
              "      <td>30</td>\n",
              "      <td>0</td>\n",
              "      <td>1</td>\n",
              "      <td>0</td>\n",
              "      <td>0</td>\n",
              "      <td>0</td>\n",
              "      <td>0</td>\n",
              "      <td>...</td>\n",
              "      <td>0</td>\n",
              "      <td>1</td>\n",
              "      <td>0</td>\n",
              "      <td>1</td>\n",
              "      <td>0</td>\n",
              "      <td>1</td>\n",
              "      <td>0</td>\n",
              "      <td>1</td>\n",
              "      <td>0</td>\n",
              "      <td>0</td>\n",
              "    </tr>\n",
              "    <tr>\n",
              "      <th>3</th>\n",
              "      <td>30</td>\n",
              "      <td>25</td>\n",
              "      <td>5</td>\n",
              "      <td>35</td>\n",
              "      <td>0</td>\n",
              "      <td>1</td>\n",
              "      <td>0</td>\n",
              "      <td>0</td>\n",
              "      <td>0</td>\n",
              "      <td>0</td>\n",
              "      <td>...</td>\n",
              "      <td>0</td>\n",
              "      <td>1</td>\n",
              "      <td>0</td>\n",
              "      <td>1</td>\n",
              "      <td>0</td>\n",
              "      <td>1</td>\n",
              "      <td>0</td>\n",
              "      <td>1</td>\n",
              "      <td>0</td>\n",
              "      <td>0</td>\n",
              "    </tr>\n",
              "    <tr>\n",
              "      <th>4</th>\n",
              "      <td>40</td>\n",
              "      <td>50</td>\n",
              "      <td>12</td>\n",
              "      <td>50</td>\n",
              "      <td>0</td>\n",
              "      <td>1</td>\n",
              "      <td>0</td>\n",
              "      <td>0</td>\n",
              "      <td>0</td>\n",
              "      <td>0</td>\n",
              "      <td>...</td>\n",
              "      <td>0</td>\n",
              "      <td>1</td>\n",
              "      <td>0</td>\n",
              "      <td>1</td>\n",
              "      <td>0</td>\n",
              "      <td>1</td>\n",
              "      <td>0</td>\n",
              "      <td>1</td>\n",
              "      <td>0</td>\n",
              "      <td>1</td>\n",
              "    </tr>\n",
              "  </tbody>\n",
              "</table>\n",
              "<p>5 rows × 59 columns</p>\n",
              "</div>\n",
              "      <button class=\"colab-df-convert\" onclick=\"convertToInteractive('df-d04d861d-3be3-4ca9-ad1a-e5986d3f7c17')\"\n",
              "              title=\"Convert this dataframe to an interactive table.\"\n",
              "              style=\"display:none;\">\n",
              "        \n",
              "  <svg xmlns=\"http://www.w3.org/2000/svg\" height=\"24px\"viewBox=\"0 0 24 24\"\n",
              "       width=\"24px\">\n",
              "    <path d=\"M0 0h24v24H0V0z\" fill=\"none\"/>\n",
              "    <path d=\"M18.56 5.44l.94 2.06.94-2.06 2.06-.94-2.06-.94-.94-2.06-.94 2.06-2.06.94zm-11 1L8.5 8.5l.94-2.06 2.06-.94-2.06-.94L8.5 2.5l-.94 2.06-2.06.94zm10 10l.94 2.06.94-2.06 2.06-.94-2.06-.94-.94-2.06-.94 2.06-2.06.94z\"/><path d=\"M17.41 7.96l-1.37-1.37c-.4-.4-.92-.59-1.43-.59-.52 0-1.04.2-1.43.59L10.3 9.45l-7.72 7.72c-.78.78-.78 2.05 0 2.83L4 21.41c.39.39.9.59 1.41.59.51 0 1.02-.2 1.41-.59l7.78-7.78 2.81-2.81c.8-.78.8-2.07 0-2.86zM5.41 20L4 18.59l7.72-7.72 1.47 1.35L5.41 20z\"/>\n",
              "  </svg>\n",
              "      </button>\n",
              "      \n",
              "  <style>\n",
              "    .colab-df-container {\n",
              "      display:flex;\n",
              "      flex-wrap:wrap;\n",
              "      gap: 12px;\n",
              "    }\n",
              "\n",
              "    .colab-df-convert {\n",
              "      background-color: #E8F0FE;\n",
              "      border: none;\n",
              "      border-radius: 50%;\n",
              "      cursor: pointer;\n",
              "      display: none;\n",
              "      fill: #1967D2;\n",
              "      height: 32px;\n",
              "      padding: 0 0 0 0;\n",
              "      width: 32px;\n",
              "    }\n",
              "\n",
              "    .colab-df-convert:hover {\n",
              "      background-color: #E2EBFA;\n",
              "      box-shadow: 0px 1px 2px rgba(60, 64, 67, 0.3), 0px 1px 3px 1px rgba(60, 64, 67, 0.15);\n",
              "      fill: #174EA6;\n",
              "    }\n",
              "\n",
              "    [theme=dark] .colab-df-convert {\n",
              "      background-color: #3B4455;\n",
              "      fill: #D2E3FC;\n",
              "    }\n",
              "\n",
              "    [theme=dark] .colab-df-convert:hover {\n",
              "      background-color: #434B5C;\n",
              "      box-shadow: 0px 1px 3px 1px rgba(0, 0, 0, 0.15);\n",
              "      filter: drop-shadow(0px 1px 2px rgba(0, 0, 0, 0.3));\n",
              "      fill: #FFFFFF;\n",
              "    }\n",
              "  </style>\n",
              "\n",
              "      <script>\n",
              "        const buttonEl =\n",
              "          document.querySelector('#df-d04d861d-3be3-4ca9-ad1a-e5986d3f7c17 button.colab-df-convert');\n",
              "        buttonEl.style.display =\n",
              "          google.colab.kernel.accessAllowed ? 'block' : 'none';\n",
              "\n",
              "        async function convertToInteractive(key) {\n",
              "          const element = document.querySelector('#df-d04d861d-3be3-4ca9-ad1a-e5986d3f7c17');\n",
              "          const dataTable =\n",
              "            await google.colab.kernel.invokeFunction('convertToInteractive',\n",
              "                                                     [key], {});\n",
              "          if (!dataTable) return;\n",
              "\n",
              "          const docLinkHtml = 'Like what you see? Visit the ' +\n",
              "            '<a target=\"_blank\" href=https://colab.research.google.com/notebooks/data_table.ipynb>data table notebook</a>'\n",
              "            + ' to learn more about interactive tables.';\n",
              "          element.innerHTML = '';\n",
              "          dataTable['output_type'] = 'display_data';\n",
              "          await google.colab.output.renderOutput(dataTable, element);\n",
              "          const docLink = document.createElement('div');\n",
              "          docLink.innerHTML = docLinkHtml;\n",
              "          element.appendChild(docLink);\n",
              "        }\n",
              "      </script>\n",
              "    </div>\n",
              "  </div>\n",
              "  "
            ]
          },
          "metadata": {}
        }
      ],
      "source": [
        "print(f\"Number of examples: {dataset_onehot.shape[0]}\")\n",
        "print(f\"Number of features: {dataset_onehot.shape[1]}\")\n",
        "print(f\"List of features:\\n\\t{dataset_onehot.columns}\")\n",
        "\n",
        "print(f\"\\nExamining the first 5 entries in the dataset:\")\n",
        "display(dataset_onehot.head())"
      ]
    },
    {
      "cell_type": "markdown",
      "metadata": {
        "id": "uHA8Cn7swSZ2"
      },
      "source": [
        "### Splitting the dataset\n",
        "\n",
        "Before we go any further, let's ensure we have a train and test set. Before doing this, we need to drop `Class` from the dataset and assign it as our label class.\n",
        "\n",
        "Task: Split your dataset so that 33% of the data is in the test set. Ensure `random_state` is set to 10."
      ]
    },
    {
      "cell_type": "code",
      "execution_count": 20,
      "metadata": {
        "id": "oJjKysMTwSZ2"
      },
      "outputs": [],
      "source": [
        "from sklearn.model_selection import train_test_split\n",
        "\n",
        "data = dataset_onehot.drop(['Class'], axis = 1).values\n",
        "labels = dataset['Class'].values\n",
        "\n",
        "data_train, data_test, labels_train, labels_test = train_test_split(data, labels, test_size=0.33, random_state=10)"
      ]
    },
    {
      "cell_type": "markdown",
      "metadata": {
        "id": "vwwwKOx_wSZ2"
      },
      "source": [
        "### Oversampling the Dataset\n",
        "\n",
        "Now we have our dataset in a form useable to train a model on. Now, we need to make sure our dataset is balanced. Based on our EDA previously, we know that `Class` value Medium, now 1, is about twice as prevelant in the dataset as Low (0) or High (2). We can use SMOTE to oversample our train set to fix this. \n",
        "\n",
        "Task: Using what you saw in the previous notebook, use SMOTE to oversample our train set, balancing the number of classes. Set `random_state` equal to 10 to ensure reproducability."
      ]
    },
    {
      "cell_type": "code",
      "execution_count": 21,
      "metadata": {
        "id": "u764jzZBwSZ2"
      },
      "outputs": [],
      "source": [
        "#...\n",
        "from imblearn.over_sampling import SMOTE\n",
        "\n",
        "random_state = 10\n",
        "\n",
        "smote = SMOTE(random_state=random_state)\n",
        "\n",
        "data_train, labels_train = smote.fit_resample(data_train, labels_train)\n",
        " "
      ]
    },
    {
      "cell_type": "markdown",
      "metadata": {
        "id": "AH9HneWkwSZ2"
      },
      "source": [
        "Run the below checks. If any return False, take another look at the code you have written before continuing. "
      ]
    },
    {
      "cell_type": "code",
      "execution_count": 22,
      "metadata": {
        "id": "zH76b0mGwSZ3",
        "colab": {
          "base_uri": "https://localhost:8080/"
        },
        "outputId": "3e58cb34-a011-4bb4-e706-a91242059615"
      },
      "outputs": [
        {
          "output_type": "stream",
          "name": "stdout",
          "text": [
            "After SMOTE, number of class examples equal? True\n"
          ]
        }
      ],
      "source": [
        "import numpy as np\n",
        "unique, counts = np.unique(labels_train, return_counts=True)\n",
        "\n",
        "print(f\"After SMOTE, number of class examples equal? {all(counts == 135)}\")"
      ]
    },
    {
      "cell_type": "markdown",
      "metadata": {
        "id": "tTRlOlFtwSZ3"
      },
      "source": [
        "### Scaling the Data\n",
        "\n",
        "Now that we have a balanced dataset, we need to scale both sets based on the train set's values.\n",
        "\n",
        "Task: Scale your dataset based on the training set. Again, ensure your `random_state` is set to 10."
      ]
    },
    {
      "cell_type": "code",
      "execution_count": 23,
      "metadata": {
        "id": "u2hzSzU2wSZ3"
      },
      "outputs": [],
      "source": [
        "#...\n",
        "from sklearn.preprocessing import StandardScaler\n",
        "\n",
        "scaler = StandardScaler()\n",
        "scaler.fit(data)\n",
        "\n",
        "\n",
        "#...\n",
        "data_train_scaled = scaler.transform(data_train)\n",
        "data_test_scaled = scaler.transform(data_test)"
      ]
    },
    {
      "cell_type": "markdown",
      "metadata": {
        "id": "em5xrBVtwSZ5"
      },
      "source": [
        "Run the below checks. If any return False, take another look at the code you have written before continuing. "
      ]
    },
    {
      "cell_type": "code",
      "execution_count": 24,
      "metadata": {
        "id": "QEvCHSi4wSZ5",
        "colab": {
          "base_uri": "https://localhost:8080/"
        },
        "outputId": "eb984213-562d-4b5b-d3e5-0bcff1e54def"
      },
      "outputs": [
        {
          "output_type": "stream",
          "name": "stdout",
          "text": [
            "Size of training set check: True\n",
            "Size of test set check: True\n"
          ]
        }
      ],
      "source": [
        "print(f\"Size of training set check: {data_train_scaled.shape == (405, 58)}\")\n",
        "print(f\"Size of test set check: {data_test_scaled.shape == (159, 58)}\")"
      ]
    },
    {
      "cell_type": "markdown",
      "metadata": {
        "id": "BJLtvhPWwSZ5"
      },
      "source": [
        "### Training a Model\n",
        "\n",
        "Now we have a dataset ready to train a model, let's look at doing that! Let's start by looking at a non-linear SVM. \n",
        "\n",
        "Task: Using the previous notebooks to help you, create a non-linear SVM using the following hyperparameters. Train the model, and generate a test set accuracy score."
      ]
    },
    {
      "cell_type": "code",
      "execution_count": 26,
      "metadata": {
        "id": "SZUuxPNPwSZ5"
      },
      "outputs": [],
      "source": [
        "from sklearn.svm import SVC\n",
        "from sklearn.metrics import accuracy_score\n",
        "\n",
        "\n",
        "C = 100\n",
        "kernel = 'poly'\n",
        "random_state = 10\n",
        "degree = 10\n",
        "coef0 = 9\n",
        "\n",
        "#...\n",
        "non_linear_svm = SVC(\n",
        "    kernel=kernel,\n",
        "    C=C,\n",
        "    random_state=random_state,\n",
        "    degree=degree,\n",
        "    coef0=coef0,\n",
        ")\n",
        "non_linear_svm.fit(data_train_scaled, labels_train)\n",
        "\n",
        "#...\n",
        "non_linear_svm_predictions = non_linear_svm.predict(data_test_scaled)\n",
        "\n",
        "test_acc = accuracy_score(labels_test, non_linear_svm_predictions)"
      ]
    },
    {
      "cell_type": "markdown",
      "metadata": {
        "id": "SFf_XGKwwSZ5"
      },
      "source": [
        "Let's take a look at the accuracy we achieve."
      ]
    },
    {
      "cell_type": "code",
      "execution_count": 27,
      "metadata": {
        "id": "0FdXUqMgwSZ6",
        "colab": {
          "base_uri": "https://localhost:8080/"
        },
        "outputId": "06ef38dc-6e87-4270-c3d0-221faae2f701"
      },
      "outputs": [
        {
          "output_type": "stream",
          "name": "stdout",
          "text": [
            "Test acc: 75.47169811320755%\n"
          ]
        }
      ],
      "source": [
        "print(f\"Test acc: {test_acc * 100}%\")"
      ]
    },
    {
      "cell_type": "markdown",
      "metadata": {
        "id": "ukMvY7V7wSZ6"
      },
      "source": [
        "Run the below checks. If any return False, take another look at the code you have written before continuing. "
      ]
    },
    {
      "cell_type": "code",
      "execution_count": 28,
      "metadata": {
        "id": "Fj4z1lWWwSZ7",
        "colab": {
          "base_uri": "https://localhost:8080/"
        },
        "outputId": "1513e6fc-e67b-467f-9c53-d2a55a60ef5d"
      },
      "outputs": [
        {
          "output_type": "stream",
          "name": "stdout",
          "text": [
            "Test set accuracy check: True\n"
          ]
        }
      ],
      "source": [
        "print(f\"Test set accuracy check: {test_acc * 100 == 75.47169811320755}\")"
      ]
    },
    {
      "cell_type": "markdown",
      "metadata": {
        "id": "hN4WoC1xwSZ7"
      },
      "source": [
        "### Preventing Overfitting\n",
        "\n",
        "One big problem faced by data science models is that of overfitting. This occurs when the trained model has been unable to generalise well with the training data we have provided it. If this happens, our model will perform very well on the training set, but perform worse on the test set. You will go into this in more detail in your lectures.\n",
        "\n",
        "Let's check our SVM for overfitting. We can do this by predicting on the train set, generating an accuracy score, and comparing it to the test set accuracy."
      ]
    },
    {
      "cell_type": "code",
      "execution_count": null,
      "metadata": {
        "id": "rot0HzWIwSZ8"
      },
      "outputs": [],
      "source": [
        "non_linear_svm_predictions = non_linear_svm.predict(data_train_scaled)\n",
        "train_acc = accuracy_score(labels_train, non_linear_svm_predictions)\n",
        "\n",
        "print(f\"Train acc: {train_acc * 100}%\")\n",
        "print(f\"Test acc: {test_acc * 100}%\")"
      ]
    },
    {
      "cell_type": "markdown",
      "metadata": {
        "id": "rrmd3TEKwSZ8"
      },
      "source": [
        "Based on these results, we are almost certainly overfitting. We can tell this because of the 100% training accuracy, but only 75% accuracy on the test set. This is likely our hyperparameters.\n",
        "\n",
        "#### Hyperparameter Tuning and Cross Validation\n",
        "\n",
        "In a previous notebook, I mentioned how hyparameters are values you need to set to allow your model to train. The values you set for these hyperparameters can greatly influence how well your model can generalise, preventing overfitting. But how do you know which hyperparameters to choose?\n",
        "\n",
        "To help us decide which hyperparameters to pass to our models, we can utilise a process known as hyperparameter tuning. The simplest form of this is known as a Grid Search. During a Grid Search, we provide a list of values to try out for each hyperparameter. In practise a subset of hyperparameters are used, especially for deep learning models - in my research a grid search on a deep learning model took just over 1 month to finish using 2 GPUs!\n",
        "\n",
        "When we perform hyperparameter tuning, we don't want to expose our model to the test set as this may impact generalisation and stops us being able to produce a final evaluation on unseen data. With large datasets, often the train set will be split further into an evaluation set to get around this. The train set will be used for training, hyperparameter searches will be evaluated against the evaluation set, and the test set will be reserved for final evaluation on unseen data. \n",
        "\n",
        "In our case however we have a small dataset. To allow us to still perform hyperparameter tuning we can utilise a concept known as Cross Validation. Again you will go into more detail in your lectures, but cross validation allows you to split your training set multiple times into N *folds*. Hyperparameter tuning is then performed on the combination of these folds. This gives us, in essence, both a training and validation set even though we have very little data to work with. \n",
        "\n",
        "Let's try some hyperparameter tuning using cross validation on our non-linear SVM and see if we can reduce our overfitting. Somewhat annoyingly, we now have a hyperparameter for our cross validation - the number of folds!\n",
        "\n",
        "Note this next code block might take a little while to run..."
      ]
    },
    {
      "cell_type": "code",
      "execution_count": null,
      "metadata": {
        "id": "iGSalZlwwSZ9"
      },
      "outputs": [],
      "source": [
        "from sklearn.model_selection import GridSearchCV\n",
        "\n",
        "number_of_folds = 5\n",
        "random_state = 10\n",
        "\n",
        "parameters_to_tune = [{'kernel': ['poly', 'rbf'],\n",
        "                      'C': [1, 10],\n",
        "                      'degree': [1, 40], \n",
        "                      'coef0': [1, 9]}]\n",
        "\n",
        "search = GridSearchCV(SVC(random_state = random_state), parameters_to_tune, cv = number_of_folds)\n",
        "search.fit(data_train_scaled, labels_train)\n",
        "\n",
        "print(f\"Best parameters set found: {search.best_params_}\")"
      ]
    },
    {
      "cell_type": "markdown",
      "metadata": {
        "id": "CpSgjQwqwSZ-"
      },
      "source": [
        "We have found a set of hyperparameters that the search believes will reduce overfitting and improve our test set accuracy the most! Let's train a model using the found parameters and check."
      ]
    },
    {
      "cell_type": "code",
      "execution_count": null,
      "metadata": {
        "id": "Iq9ixvd9wSZ-"
      },
      "outputs": [],
      "source": [
        "non_linear_svm = SVC(kernel = search.best_params_['kernel'],\n",
        "                     degree = search.best_params_['degree'],\n",
        "                     C = search.best_params_['C'],\n",
        "                     coef0 = search.best_params_['coef0'], random_state = 10)\n",
        "non_linear_svm.fit(data_train_scaled, labels_train)\n",
        "\n",
        "non_linear_svm_predictions = non_linear_svm.predict(data_train_scaled)\n",
        "train_acc = accuracy_score(labels_train, non_linear_svm_predictions)\n",
        "\n",
        "non_linear_svm_predictions = non_linear_svm.predict(data_test_scaled)\n",
        "test_acc = accuracy_score(labels_test, non_linear_svm_predictions)\n",
        "\n",
        "print(f\"Train acc: {train_acc * 100}%\")\n",
        "print(f\"Test acc: {test_acc * 100}%\")"
      ]
    },
    {
      "cell_type": "markdown",
      "metadata": {
        "id": "JfxRnWFTwSZ-"
      },
      "source": [
        "Now our training accuracy has dropped to 87% but our test accuracy has increased to nearl 79%. This indicates the hyperparameters found in the search have had the desired effect - our overfitting has been reduced! With a larger parameter search, we may be able to increase our test set acciracy even further. "
      ]
    },
    {
      "cell_type": "markdown",
      "metadata": {
        "id": "9N9zBfqkwSZ_"
      },
      "source": [
        "### Decision Trees and Random Forests\n",
        "\n",
        "Now let's take a look at training a decision tree on the data we have. \n",
        "\n",
        "Task: Using the transformed data, train a decision tree, and generate a train and test accuracy to allow for an overfitting check."
      ]
    },
    {
      "cell_type": "code",
      "execution_count": null,
      "metadata": {
        "id": "Ll5Cio6NwSZ_"
      },
      "outputs": [],
      "source": [
        "random_state = 10\n",
        "\n",
        "#...\n",
        "\n",
        "decision_tree = #...\n",
        "#...\n",
        "\n",
        "decision_tree_predictions = #...\n",
        "train_acc = #...\n",
        "\n",
        "decision_tree_predictions = #...\n",
        "test_acc = #...\n",
        "\n",
        "print(f\"Train acc: {train_acc * 100}%\")\n",
        "print(f\"Test acc: {test_acc * 100}%\")"
      ]
    },
    {
      "cell_type": "markdown",
      "metadata": {
        "id": "PALADmpXwSaA"
      },
      "source": [
        "Run the below checks. If any return False, take another look at the code you have written before continuing. "
      ]
    },
    {
      "cell_type": "code",
      "execution_count": null,
      "metadata": {
        "id": "h8Odgu-WwSaA"
      },
      "outputs": [],
      "source": [
        "print(f\"Train set accuracy check: {train_acc * 100 == 100.0}\")\n",
        "print(f\"Test set accuracy check: {test_acc * 100 == 71.0691823899371}\")"
      ]
    },
    {
      "cell_type": "markdown",
      "metadata": {
        "id": "UwsVeyjEwSaA"
      },
      "source": [
        "One again, we observe overfitting. In fact, decisions trees are so prone to overfitting it is rare to see them used on their own. One way to reduce their overfitting is to train multiple differnt decisions trees and then use these to vote on the final result. This is known as a random forest, as your model consists of an ensamble of randomly generated decision trees. Let's take a look at building one of these. "
      ]
    },
    {
      "cell_type": "code",
      "execution_count": null,
      "metadata": {
        "id": "rtS9Qp4pwSaB"
      },
      "outputs": [],
      "source": [
        "from sklearn.ensemble import RandomForestClassifier\n",
        "\n",
        "random_forest = RandomForestClassifier(n_estimators=50, max_depth=50, random_state=10)\n",
        "random_forest.fit(data_train_scaled, labels_train)\n",
        "\n",
        "random_forest_predictions = random_forest.predict(data_train_scaled)\n",
        "train_acc = accuracy_score(labels_train, random_forest_predictions)\n",
        "\n",
        "random_forest_predictions = random_forest.predict(data_test_scaled)\n",
        "test_acc = accuracy_score(labels_test, random_forest_predictions)\n",
        "\n",
        "print(f\"Train acc: {train_acc * 100}%\")\n",
        "print(f\"Test acc: {test_acc * 100}%\")"
      ]
    },
    {
      "cell_type": "markdown",
      "metadata": {
        "id": "_-qZ-2KtwSaC"
      },
      "source": [
        "We see better test accuracy here, but the model may still be overfitting. Let's look at performing a hyperparameter search and seeing if we can do better. \n",
        "\n",
        "Task: Using GridSearchCV, perform a 5-fold cross-validation on the Random Forest. Using the best parameters found, train another Random Forest and generate train and test set accuracies. "
      ]
    },
    {
      "cell_type": "code",
      "execution_count": null,
      "metadata": {
        "id": "_XU72F7uwSaC"
      },
      "outputs": [],
      "source": [
        "random_state = 10\n",
        "number_of_folds = 5\n",
        "\n",
        "parameters_to_tune = [{'n_estimators': [10, 15, 20],\n",
        "                      'max_depth': [5, 10, 20, 50]}]\n",
        "\n",
        "#...\n",
        "\n",
        "print(f\"Best parameters set found: {search.best_params_}\")\n",
        "\n",
        "random_forest = #...\n",
        "#...\n",
        "train_acc = #...\n",
        "#...\n",
        "test_acc = #...\n",
        "\n",
        "print(f\"Train acc: {train_acc * 100}%\")\n",
        "print(f\"Test acc: {test_acc * 100}%\")"
      ]
    },
    {
      "cell_type": "markdown",
      "metadata": {
        "id": "MgXWdqTgwSaC"
      },
      "source": [
        "Run the below checks. If any return False, take another look at the code you have written before continuing. "
      ]
    },
    {
      "cell_type": "code",
      "execution_count": null,
      "metadata": {
        "id": "Qm3iIdrowSaC"
      },
      "outputs": [],
      "source": [
        "print(f\"Train set accuracy check: {train_acc * 100 == 89.38271604938272}\")\n",
        "print(f\"Test set accuracy check: {test_acc * 100 == 74.84276729559748}\")"
      ]
    },
    {
      "cell_type": "markdown",
      "metadata": {
        "id": "Br2a5HJBwSaD"
      },
      "source": [
        "After tuning, we can see our train and test set accuracies are now close together. Even though we observe a drop in training accuracy, our test accuracy has very slightly increased - suggesting we have prevented overfitting and produced a generalised model. Again, with a larger hyperparameter search we may be able to do better here. "
      ]
    },
    {
      "cell_type": "code",
      "execution_count": null,
      "metadata": {
        "id": "b_LrLSIBwSaD"
      },
      "outputs": [],
      "source": [
        ""
      ]
    }
  ],
  "metadata": {
    "kernelspec": {
      "display_name": "Python 3",
      "language": "python",
      "name": "python3"
    },
    "language_info": {
      "codemirror_mode": {
        "name": "ipython",
        "version": 3
      },
      "file_extension": ".py",
      "mimetype": "text/x-python",
      "name": "python",
      "nbconvert_exporter": "python",
      "pygments_lexer": "ipython3",
      "version": "3.9.0"
    },
    "colab": {
      "name": "04-predicting-academic-performance.ipynb",
      "provenance": []
    }
  },
  "nbformat": 4,
  "nbformat_minor": 0
}